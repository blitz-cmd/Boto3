{
 "cells": [
  {
   "cell_type": "code",
   "execution_count": 1,
   "metadata": {},
   "outputs": [],
   "source": [
    "import boto3\r\n",
    "import random"
   ]
  },
  {
   "cell_type": "code",
   "execution_count": 6,
   "metadata": {},
   "outputs": [],
   "source": [
    "bucketname=\"deep93989\"\r\n",
    "s3=boto3.client('s3')\r\n",
    "s3.upload_file(Filename=\"s3.py\",Bucket=bucketname,Key=\"S3 Code\")"
   ]
  }
 ],
 "metadata": {
  "interpreter": {
   "hash": "9f454a0e6c824469c528a15baa532022648875e21f6609d5b9062f31e1c5e0c5"
  },
  "kernelspec": {
   "display_name": "Python 3.8.0 64-bit",
   "name": "python3"
  },
  "language_info": {
   "codemirror_mode": {
    "name": "ipython",
    "version": 3
   },
   "file_extension": ".py",
   "mimetype": "text/x-python",
   "name": "python",
   "nbconvert_exporter": "python",
   "pygments_lexer": "ipython3",
   "version": "3.8.0"
  },
  "orig_nbformat": 4
 },
 "nbformat": 4,
 "nbformat_minor": 2
}